{
 "metadata": {
  "name": "",
  "signature": "sha256:d849c811c2b5f93dee7ad381afc177712c0729053962e7ccae11ca4d5c1cfa08"
 },
 "nbformat": 3,
 "nbformat_minor": 0,
 "worksheets": [
  {
   "cells": [
    {
     "cell_type": "code",
     "collapsed": false,
     "input": [
      "%matplotlib inline \n",
      "\n",
      "import matplotlib.pyplot as plt\n",
      "import numpy as np\n",
      "import scipy.integrate as integrate\n",
      "\n",
      "plt.rcParams['font.size'] = 15\n",
      "\n",
      "from IPython.core.display import HTML\n",
      "def css_styling():\n",
      "    styles = open(\"custom.css\", \"r\").read()\n",
      "    return HTML(styles)\n",
      "css_styling()"
     ],
     "language": "python",
     "metadata": {
      "slideshow": {
       "slide_type": "-"
      }
     },
     "outputs": [
      {
       "html": [
        "<style>\n",
        "    div.cell{\n",
        "        width:90%;\n",
        "        margin-left:0%;\n",
        "        margin-right:auto;\n",
        "        font-size: 120%;\n",
        "    }\n",
        "    \n",
        "    div.text_cell_render{\n",
        "        width:90%;\n",
        "        margin-left:0%;\n",
        "        margin-right:auto;\n",
        "        font-size: 110%;\n",
        "        line-height: 1.8;\n",
        "    }\n",
        "\n",
        ".rendered_html li\n",
        "{\n",
        "  margin-top:0.8em;\n",
        "  }\n",
        "</style>\n"
       ],
       "metadata": {},
       "output_type": "pyout",
       "prompt_number": 45,
       "text": [
        "<IPython.core.display.HTML object>"
       ]
      }
     ],
     "prompt_number": 45
    },
    {
     "cell_type": "markdown",
     "metadata": {},
     "source": [
      "# Using Python to solve ODEs\n",
      "\n",
      "## Example: Van der Pol oscillator \n",
      "\n",
      " - This is the [standard example](http://www.gnu.org/software/gsl/manual/html_node/Ordinary-Differential-Equations.html) used in the GNU GSL library to demonstrate the use of `odeiv2`. \n",
      " - The equations written in two dimensional form are given by:\n",
      "\n",
      "\\begin{align}\n",
      "\\dot{x} & = y \\\\\n",
      "\\dot{y} & = \\mu(1-x^{2})y - x\n",
      "\\end{align}"
     ]
    },
    {
     "cell_type": "markdown",
     "metadata": {
      "slideshow": {
       "slide_type": "-"
      }
     },
     "source": [
      "### Using the GSL libary"
     ]
    },
    {
     "cell_type": "code",
     "collapsed": false,
     "input": [
      "%%file odeint.c\n",
      "\n",
      "#include <stdio.h>\n",
      "#include <gsl/gsl_errno.h>\n",
      "#include <gsl/gsl_matrix.h>\n",
      "#include <gsl/gsl_odeiv2.h>\n",
      "\n",
      "int\n",
      "func (double t, const double y[], double f[],\n",
      "      void *params)\n",
      "{\n",
      "  double mu = *(double *)params;\n",
      "  f[0] = y[1];\n",
      "  f[1] = -y[0] - mu*y[1]*(y[0]*y[0] - 1);\n",
      "  return GSL_SUCCESS;\n",
      "}\n",
      "\n",
      "int\n",
      "jac (double t, const double y[], double *dfdy, \n",
      "     double dfdt[], void *params)\n",
      "{\n",
      "  double mu = *(double *)params;\n",
      "  gsl_matrix_view dfdy_mat \n",
      "    = gsl_matrix_view_array (dfdy, 2, 2);\n",
      "  gsl_matrix * m = &dfdy_mat.matrix; \n",
      "  gsl_matrix_set (m, 0, 0, 0.0);\n",
      "  gsl_matrix_set (m, 0, 1, 1.0);\n",
      "  gsl_matrix_set (m, 1, 0, -2.0*mu*y[0]*y[1] - 1.0);\n",
      "  gsl_matrix_set (m, 1, 1, -mu*(y[0]*y[0] - 1.0));\n",
      "  dfdt[0] = 0.0;\n",
      "  dfdt[1] = 0.0;\n",
      "  return GSL_SUCCESS;\n",
      "}\n",
      "\n",
      "int\n",
      "main (void)\n",
      "{\n",
      "  double mu = 10;\n",
      "  gsl_odeiv2_system sys = {func, jac, 2, &mu};\n",
      "\n",
      "  gsl_odeiv2_driver * d = \n",
      "    gsl_odeiv2_driver_alloc_y_new (&sys, gsl_odeiv2_step_rk8pd,\n",
      "                                   1e-6, 1e-6, 0.0);\n",
      "  int i;\n",
      "  double t = 0.0, t1 = 200.0;\n",
      "  double y[2] = { 1.0, 0.0 };\n",
      "\n",
      "  for (i = 1; i <= 1000; i++)\n",
      "    {\n",
      "      double ti = i * t1 / 100.0;\n",
      "      int status = gsl_odeiv2_driver_apply (d, &t, ti, y);\n",
      "\n",
      "      if (status != GSL_SUCCESS)\n",
      "      {\n",
      "      printf (\"error, return value=%d\\n\", status);\n",
      "      break;\n",
      "      }\n",
      "\n",
      "      printf (\"%.5e %.5e %.5e\\n\", t, y[0], y[1]);\n",
      "    }\n",
      "\n",
      "  gsl_odeiv2_driver_free (d);\n",
      "  return 0;\n",
      "}"
     ],
     "language": "python",
     "metadata": {
      "slideshow": {
       "slide_type": "subslide"
      }
     },
     "outputs": [
      {
       "output_type": "stream",
       "stream": "stdout",
       "text": [
        "Writing odeint.c\n"
       ]
      }
     ],
     "prompt_number": 2
    },
    {
     "cell_type": "markdown",
     "metadata": {
      "slideshow": {
       "slide_type": "slide"
      }
     },
     "source": [
      "#### Compile and run the code"
     ]
    },
    {
     "cell_type": "code",
     "collapsed": false,
     "input": [
      "!gcc -Wall -c odeint.c\n",
      "!gcc -static odeint.o -lgsl -lgslcblas -lm \n",
      "!./a.out > Cresults.txt"
     ],
     "language": "python",
     "metadata": {},
     "outputs": [],
     "prompt_number": 3
    },
    {
     "cell_type": "markdown",
     "metadata": {},
     "source": [
      "#### Check the result"
     ]
    },
    {
     "cell_type": "code",
     "collapsed": false,
     "input": [
      "results = np.genfromtxt(\"Cresults.txt\")\n",
      "# Note: results is [time, x, y] as this was how it was saved in the \n",
      "# odeint.c script\n",
      "\n",
      "plt.plot(results[:, 1], results[:, 2], \".\")\n",
      "plt.show()"
     ],
     "language": "python",
     "metadata": {},
     "outputs": [
      {
       "metadata": {},
       "output_type": "display_data",
       "png": "[encoded data removed]",
       "text": [
        "<matplotlib.figure.Figure at 0x359fc90>"
       ]
      }
     ],
     "prompt_number": 8
    },
    {
     "cell_type": "markdown",
     "metadata": {
      "slideshow": {
       "slide_type": "slide"
      }
     },
     "source": [
      "### Using 'pure' Python\n",
      "\n",
      " - Now using the `scipy.integrate` module (standard in most python distribution) here is the code to solve the same ODEs under the same conditions.\n",
      " \n",
      " - Note `odeint` uses [lsoda from the FORTRAN](http://people.sc.fsu.edu/~jburkardt/f77_src/odepack/odepack.html) library odepack. This automatically switches between nonstiff and stiff solvers depending on the behavior of the problem\n",
      " - Also note the different ways to define *variables* in python. For a boring overview [read here](https://www.inkling.com/read/learning-python-mark-lutz-4th/chapter-17/python-scope-basics)"
     ]
    },
    {
     "cell_type": "code",
     "collapsed": false,
     "input": [
      "import scipy.integrate as integrate\n",
      "\n",
      "def vanderpol_eqn(y, t, mu=10):\n",
      "    dxdt = y[1]\n",
      "    dydt = -y[0] - mu*y[1]*(y[0]*y[0] - 1)\n",
      "    return [dxdt, dydt]\n",
      "\n",
      "mu = 10\n",
      "def vanderpol_jac(y, t):\n",
      "    j00 = 0\n",
      "    j01 = 1\n",
      "    j10 = -2*y[0]*y[1]*mu - 1\n",
      "    j11 = mu*(1 - y[0]**2)\n",
      "    return [[j00, j01], [j10, j11]]\n",
      "\n",
      "time = np.linspace(0, 200, 1000)\n",
      "\n",
      "results = integrate.odeint(vanderpol_eqn, \n",
      "                           y0=[1.0, 0.0], \n",
      "                           t=time, \n",
      "                           Dfun=vanderpol_jac)\n",
      "\n",
      "plt.plot(results[:, 0], results[:, 1], \".\")\n",
      "plt.show()"
     ],
     "language": "python",
     "metadata": {},
     "outputs": [
      {
       "metadata": {},
       "output_type": "display_data",
       "png": "[encoded data removed]",
       "text": [
        "<matplotlib.figure.Figure at 0x421b690>"
       ]
      }
     ],
     "prompt_number": 5
    },
    {
     "cell_type": "code",
     "collapsed": false,
     "input": [
      "integrate.odeint?"
     ],
     "language": "python",
     "metadata": {},
     "outputs": [],
     "prompt_number": 20
    },
    {
     "cell_type": "markdown",
     "metadata": {
      "slideshow": {
       "slide_type": "slide"
      }
     },
     "source": [
      "## Comparing the run times\n",
      "\n",
      "- We can time how long it takes to run the integration to check *how slow is python?*"
     ]
    },
    {
     "cell_type": "code",
     "collapsed": false,
     "input": [
      "%%timeit \n",
      "! ./a.out > Cresults.txt"
     ],
     "language": "python",
     "metadata": {},
     "outputs": [
      {
       "output_type": "stream",
       "stream": "stdout",
       "text": [
        "10 loops, best of 3: 120 ms per loop\n"
       ]
      }
     ],
     "prompt_number": 17
    },
    {
     "cell_type": "code",
     "collapsed": false,
     "input": [
      "%%timeit \n",
      "results = integrate.odeint(vanderpol_eqn, [1.0, 0.0], time, Dfun=vanderpol_jac).T"
     ],
     "language": "python",
     "metadata": {},
     "outputs": [
      {
       "output_type": "stream",
       "stream": "stdout",
       "text": [
        "10 loops, best of 3: 164 ms per loop\n"
       ]
      }
     ],
     "prompt_number": 8
    },
    {
     "cell_type": "markdown",
     "metadata": {},
     "source": [
      "# Adaptive step size\n",
      "We now look at the [Logistic equation](http://mathworld.wolfram.com/LogisticEquation.html) given by:\n",
      "\\begin{equation}\n",
      "\\frac{dy}{dt} = ry(1 - y),\n",
      "\\end{equation}\n",
      "which has a closed solution given by \n",
      "\\begin{equation}\n",
      "y(t) = \\left(1 + \\left(\\frac{1}{y_{0}} -1 \\right)e^{-rt}\\right)^{-1}\n",
      "\\end{equation}\n",
      "So we know solutions should look like:"
     ]
    },
    {
     "cell_type": "code",
     "collapsed": false,
     "input": [
      "def logistic_solution(t, r, y0):\n",
      "    return pow(1+(pow(y0, -1) - 1)*np.exp(-r*t), -1)\n",
      "\n",
      "time = np.linspace(0, 20)\n",
      "plt.plot(time, logistic_solution(time, 1, 1e-3))\n",
      "plt.xlabel('time')\n",
      "plt.ylabel('y(t)')\n",
      "plt.ylim(-0.1, 1.1)\n",
      "plt.show()"
     ],
     "language": "python",
     "metadata": {},
     "outputs": [
      {
       "metadata": {},
       "output_type": "display_data",
       "png": "[encoded data removed]",
       "text": [
        "<matplotlib.figure.Figure at 0x48b6610>"
       ]
      }
     ],
     "prompt_number": 5
    },
    {
     "cell_type": "markdown",
     "metadata": {},
     "source": [
      "## Naive attempt\n",
      "\n",
      "- Giving `scipy.integrate.odeint()` a fixed set of times as we did before fails"
     ]
    },
    {
     "cell_type": "code",
     "collapsed": false,
     "input": [
      "r = .01\n",
      "t0 = 0\n",
      "y0 = 1e-5\n",
      "t1 = 2.0\n",
      "\n",
      "def logistic(t, y, r):\n",
      "    return r * y * (1.0 - y)\n",
      "\n",
      "time = np.linspace(0, t1, 1000)\n",
      "\n",
      "results = integrate.odeint(logistic, \n",
      "                           y0=y0, \n",
      "                           t=time,\n",
      "                           args=(r,),\n",
      "                           printmessg=True)\n",
      "\n",
      "plt.plot(time, results, \"b\", label=\"Numerical solution\")\n",
      "plt.plot(time, logistic_solution(time, 0.01, y0), \"r\", label=\"Exact solution\")\n",
      "plt.legend(loc=3, fontsize=12)\n",
      "plt.show()"
     ],
     "language": "python",
     "metadata": {},
     "outputs": [
      {
       "output_type": "stream",
       "stream": "stdout",
       "text": [
        "Integration successful.\n"
       ]
      },
      {
       "metadata": {},
       "output_type": "display_data",
       "png": "[encoded data removed]",
       "text": [
        "<matplotlib.figure.Figure at 0x48ae610>"
       ]
      }
     ],
     "prompt_number": 34
    },
    {
     "cell_type": "markdown",
     "metadata": {},
     "source": [
      "- This method makes it very difficult to diagnose the problems\n",
      "- Look at a more intuitive method \n",
      "- Also allows control over the *stepper*"
     ]
    },
    {
     "cell_type": "code",
     "collapsed": false,
     "input": [
      "from scipy.integrate import ode\n",
      "ode?"
     ],
     "language": "python",
     "metadata": {},
     "outputs": [],
     "prompt_number": 35
    },
    {
     "cell_type": "code",
     "collapsed": false,
     "input": [
      "r = .01\n",
      "t0 = 0\n",
      "y0 = 1e-5\n",
      "t1 = 3000.0\n",
      "\n",
      "backend = 'vode'\n",
      "solver = ode(logistic).set_integrator(backend)\n",
      "solver.set_initial_value(y0, t0).set_f_params(r)\n",
      "\n",
      "sol = []\n",
      "while solver.successful() and solver.t < t1:\n",
      "    solver.integrate(t1, step=True)\n",
      "    sol.append([solver.t, solver.y])\n",
      "\n",
      "sol = np.array(sol)\n",
      "time = sol[:, 0]\n",
      "\n",
      "plt.plot(sol[:,0], sol[:,1], \"-r\", label=\"Numerical solution\")\n",
      "plt.plot(time[::3], logistic_solution(time[::3], r, y0), \"x\", label=\"Exact solution\")\n",
      "plt.legend(loc=4, fontsize=12)\n",
      "plt.show()\n"
     ],
     "language": "python",
     "metadata": {},
     "outputs": [
      {
       "metadata": {},
       "output_type": "display_data",
       "png": "[encoded data removed]",
       "text": [
        "<matplotlib.figure.Figure at 0x4a926d0>"
       ]
      }
     ],
     "prompt_number": 43
    }
   ],
   "metadata": {}
  }
 ]
}