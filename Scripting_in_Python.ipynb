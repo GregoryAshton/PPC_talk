{
 "metadata": {
  "name": "",
  "signature": "sha256:ed9b76aed31342fda468f7349f2b1a651cee267aa70f02c54152a3750996c86b"
 },
 "nbformat": 3,
 "nbformat_minor": 0,
 "worksheets": [
  {
   "cells": [
    {
     "cell_type": "code",
     "collapsed": false,
     "input": [
      "%matplotlib inline \n",
      "\n",
      "import matplotlib.pyplot as plt\n",
      "import numpy as np\n",
      "import scipy.integrate as integrate\n",
      "\n",
      "from IPython.display import Image\n",
      "\n",
      "plt.rcParams['font.size'] = 15\n",
      "\n",
      "from IPython.core.display import HTML\n",
      "def css_styling():\n",
      "    styles = open(\"custom.css\", \"r\").read()\n",
      "    return HTML(styles)\n",
      "css_styling()"
     ],
     "language": "python",
     "metadata": {
      "slideshow": {
       "slide_type": "-"
      }
     },
     "outputs": [
      {
       "html": [
        "<style>\n",
        "    div.cell{\n",
        "        width:90%;\n",
        "        margin-left:0%;\n",
        "        margin-right:auto;\n",
        "        font-size: 120%;\n",
        "    }\n",
        "    \n",
        "    div.text_cell_render{\n",
        "        width:90%;\n",
        "        margin-left:0%;\n",
        "        margin-right:auto;\n",
        "        font-size: 110%;\n",
        "        line-height: 1.8;\n",
        "    }\n",
        "\n",
        ".rendered_html li\n",
        "{\n",
        "  margin-top:0.8em;\n",
        "  }\n",
        "</style>\n"
       ],
       "metadata": {},
       "output_type": "pyout",
       "prompt_number": 7,
       "text": [
        "<IPython.core.display.HTML object>"
       ]
      }
     ],
     "prompt_number": 7
    },
    {
     "cell_type": "markdown",
     "metadata": {},
     "source": [
      "# Making life easier with Python\n",
      "\n",
      "## Example: *driven damped harmonic oscillator*\n",
      "\n"
     ]
    },
    {
     "cell_type": "code",
     "collapsed": false,
     "input": [
      "Image(url=\"http://farside.ph.utexas.edu/teaching/315/Waves/img364.png\")"
     ],
     "language": "python",
     "metadata": {},
     "outputs": [
      {
       "html": [
        "<img src=\"http://farside.ph.utexas.edu/teaching/315/Waves/img364.png\"/>"
       ],
       "metadata": {},
       "output_type": "pyout",
       "prompt_number": 4,
       "text": [
        "<IPython.core.display.Image object>"
       ]
      }
     ],
     "prompt_number": 4
    },
    {
     "cell_type": "markdown",
     "metadata": {},
     "source": [
      "Consider the harmonic oscillator with a sinusoidal driving force\n",
      "\n",
      "$$\n",
      "\\ddot{x} + 2\\zeta \\omega_{0} \\dot{x} + \\omega_{0}^{2}x = \\frac{F_{0}}{m}\\sin(\\omega_{F} t)\n",
      "$$\n",
      "\n",
      "where $\\zeta$ is the damping parameter, $m$ is the mass, $\\omega_{F}$ is the driving frequency, and $\\omega_{0}$ is the undamped angular frequency . Rewriting as a system of ODEs\n",
      "\n",
      "\\begin{align}\n",
      "\\dot{x} & = y \\\\\n",
      "\\dot{y} & = \\frac{F_{0}}{m}\\sin(\\omega_{F} t) - \\left(2\\zeta \\omega_{0} y + \\omega_{0}^{2}x\\right)\n",
      "\\end{align}\n",
      "\n",
      "### Firstly solving with some arbitary set of coefficients"
     ]
    },
    {
     "cell_type": "code",
     "collapsed": false,
     "input": [
      "omega0 = 1.0\n",
      "omegaF = 0.1\n",
      "zeta = 0.01\n",
      "F0 = 1\n",
      "m = 1\n",
      "\n",
      "def driven_damped_harmonic_oscillator_eqn(y, t):\n",
      "    return [y[1], F0*np.sin(omegaF*t)/m - (2*zeta*omega0*y[1] + omega0**2 * y[0])]\n",
      "\n",
      "time = np.linspace(0, 500, 1000)\n",
      "\n",
      "results = integrate.odeint(driven_damped_harmonic_oscillator_eqn, y0=[1, 0], t=time)\n",
      "x = results[:, 0]\n",
      "\n",
      "x_driver = np.sin(omegaF*time)\n",
      "\n",
      "plt.plot(time, x, label=\"Oscillator\")\n",
      "plt.xlabel('time')\n",
      "plt.ylabel('x', rotation='horizontal')\n",
      "plt.show()"
     ],
     "language": "python",
     "metadata": {},
     "outputs": [
      {
       "metadata": {},
       "output_type": "display_data",
       "png": "[encoded data removed]",
       "text": [
        "<matplotlib.figure.Figure at 0x325add0>"
       ]
      }
     ],
     "prompt_number": 2
    },
    {
     "cell_type": "markdown",
     "metadata": {},
     "source": [
      "## Exploring the idea of \"Modular programming\"\n",
      "\n",
      "To investigate different types of solutions we want to avoid repeatedly writing \n",
      "the same code. So split each peice of logic into functions\n",
      "\n",
      " - Less copy and paste \n",
      " - Makes long peices of code *human-readable*\n",
      " "
     ]
    },
    {
     "cell_type": "code",
     "collapsed": false,
     "input": [
      "def solve_harmonic_oscilator(y0=[0, 0], tmax=1000, F0=1, m=10, zeta=0.1,\n",
      "                             omegaF=1.0, omega0=0.1, num_cyc=10):\n",
      "    \"\"\" Solves the driven damped harmonic oscillator equations \n",
      "    \n",
      "    Parameters\n",
      "    ----------\n",
      "    y0 : array_like\n",
      "        Initial conditions [x0, xdot0]\n",
      "    tmax : float\n",
      "        Duration over which to solve\n",
      "    F0 : float\n",
      "        Driving amplitude\n",
      "    m : float\n",
      "        Mass\n",
      "    zeta : float\n",
      "        Damping ratio\n",
      "    omegaF : float\n",
      "        Driving frequency\n",
      "    omega0 : float\n",
      "        Undamped angular frequency\n",
      "    num_cyc : float\n",
      "        Number of points per cycle of the smallest frequency in the problem\n",
      "        \n",
      "    Returns \n",
      "    -------\n",
      "    time : array_like\n",
      "        Array of times\n",
      "    x : array_like\n",
      "        Position at the times given in time\n",
      "    \n",
      "    \"\"\"\n",
      "    \n",
      "    def driven_damped_harmonic_oscillator_eqn(y, t):\n",
      "        return [y[1], F0*np.sin(omegaF*t)/m - (2*zeta*omega0*y[1] + omega0**2 * y[0])]\n",
      "    \n",
      "    N = num_cyc * tmax / np.min([omega0, omegaF]) \n",
      "    time = np.linspace(0, tmax, N)\n",
      "\n",
      "    results = integrate.odeint(driven_damped_harmonic_oscillator_eqn, y0=y0, t=time, printmessg=False)\n",
      "    x = results[:, 0]\n",
      "    \n",
      "    return time, x\n",
      "\n",
      "\n",
      "def FFT(time, data):\n",
      "    \"\"\" Generic FFT function\n",
      "    \n",
      "    Parameters\n",
      "    ----------\n",
      "    time : array_like, length n\n",
      "        Times of the recorded data\n",
      "    data : array_like, length n\n",
      "        Recorded data\n",
      "        \n",
      "    Returns\n",
      "    -------\n",
      "    angular_frequency : array\n",
      "        List of the frequencies\n",
      "    magnitude : array \n",
      "        List of the magnitudes\n",
      "\n",
      "    \"\"\"\n",
      "\n",
      "    n = len(time)\n",
      "    frequency = np.fft.fftfreq(n, d=time[-1] / n)\n",
      "    \n",
      "    # Subtract mean of data\n",
      "    data = data - np.mean(data)\n",
      "\n",
      "    complex_amplitude = np.fft.fft(data)\n",
      "    magnitude = [np.sqrt(a.real**2 + a.imag**2) for a in complex_amplitude]\n",
      "    \n",
      "    angular_frequency = 2*np.pi*frequency[0:n / 2]\n",
      "    magnitude = magnitude[0:n / 2]\n",
      "\n",
      "    return angular_frequency, magnitude \n",
      "\n"
     ],
     "language": "python",
     "metadata": {},
     "outputs": [],
     "prompt_number": 44
    },
    {
     "cell_type": "markdown",
     "metadata": {},
     "source": [
      "Resonance occurs at $\\omega_{F} = \\omega_{0}\\sqrt{1-2\\zeta^{2}}$"
     ]
    },
    {
     "cell_type": "code",
     "collapsed": false,
     "input": [
      "fig, (ax1, ax2) = plt.subplots(ncols=2, figsize=(10,5))\n",
      "omega0 = 1.0\n",
      "zeta = 0.1\n",
      "tmax = 1000\n",
      "\n",
      "for omegaF in [0.5, omega0*np.sqrt(1-2*zeta**2), 1.5]:\n",
      "    time, x = solve_harmonic_oscilator(tmax=tmax, omega0=omega0, omegaF=omegaF)\n",
      "    ax1.plot(time, x, label=\"{} {}\".format(1, omegaF))\n",
      "    \n",
      "    x_angular_frequency, x_magnitude = FFT(time, x)\n",
      "    ax2.plot(x_angular_frequency, x_magnitude, label=\"{} {}\".format(1, omegaF))\n",
      "    \n",
      "\n",
      "ax1.set_xlim(0, 20)\n",
      "ax1.set_xlabel(\"Time\")\n",
      "ax2.set_ylabel(\"x(t)\")\n",
      "\n",
      "ax2.set_xlabel(\"Frequency\")\n",
      "ax2.set_ylabel(\"Magnitude\")\n",
      "ax2.set_xlim(0, 3)\n",
      "plt.show()"
     ],
     "language": "python",
     "metadata": {},
     "outputs": [
      {
       "metadata": {},
       "output_type": "display_data",
       "png": "[encoded data removed]",
       "text": [
        "<matplotlib.figure.Figure at 0x3736810>"
       ]
      }
     ],
     "prompt_number": 16
    },
    {
     "cell_type": "markdown",
     "metadata": {},
     "source": [
      "## A note on *import*\n",
      "\n",
      "- Up until now we have imported functions from standard libraries but we can do the same with out own files! "
     ]
    },
    {
     "cell_type": "code",
     "collapsed": false,
     "input": [
      "%%file my_new_project.py\n",
      "\n",
      "#!/usr/bin/python \n",
      "from numpy import arange, pi, sin\n",
      "import alsaaudio\n",
      "   \n",
      "channels = 2\n",
      "sample_size = 1                     # bytes per sample\n",
      "frame_size = channels * sample_size # bytes per frame\n",
      "frame_rate = 44100                   # frames per second\n",
      "byte_rate = frame_rate * frame_size # bytes per second\n",
      "# 1 second worth of data per pcm.write() call\n",
      "# decrease if shorter notes are needed\n",
      "period_size = int(0.1*frame_rate)\n",
      "\n",
      "pcm = alsaaudio.PCM(alsaaudio.PCM_PLAYBACK)\n",
      "pcm.setchannels(channels)\n",
      "pcm.setformat(alsaaudio.PCM_FORMAT_U8)\n",
      "def quantize(f):                # map (-1..1) -> [0..256)\n",
      "    return int((f+1)*127)       # depends on PCM format\n",
      "pcm.setrate(frame_rate)\n",
      "pcm.setperiodsize(period_size)\n",
      "\n",
      "def sine_wave(freq):\n",
      "    \"\"\" Plays a sine wave\n",
      "    \n",
      "    Parameters\n",
      "    ----------\n",
      "    freq : float\n",
      "        The frequency to play the sin wave at\n",
      "        \n",
      "    \"\"\"\n",
      "    wave = [chr(quantize(sin(x))) * channels for x\n",
      "            in arange(0, 2*pi, 2*pi / (frame_rate / freq))]\n",
      "    wave_data = \"\".join(wave)\n",
      "    (nwaves, extra_bytes) = divmod(period_size * frame_size, len(wave_data))\n",
      "    pcm.write((wave_data * nwaves) + wave_data[:extra_bytes])"
     ],
     "language": "python",
     "metadata": {},
     "outputs": [
      {
       "output_type": "stream",
       "stream": "stdout",
       "text": [
        "Overwriting my_new_project.py\n"
       ]
      }
     ],
     "prompt_number": 3
    },
    {
     "cell_type": "code",
     "collapsed": false,
     "input": [
      "import my_new_project as MNP\n",
      "\n",
      "# Make some stupid music\n",
      "for df in np.random.normal(0.0, 50, 20):\n",
      "    MNP.sine_wave(150+df) \n",
      "    MNP.sine_wave(300+df)\n"
     ],
     "language": "python",
     "metadata": {},
     "outputs": [],
     "prompt_number": 18
    },
    {
     "cell_type": "code",
     "collapsed": false,
     "input": [],
     "language": "python",
     "metadata": {},
     "outputs": []
    }
   ],
   "metadata": {}
  }
 ]
}