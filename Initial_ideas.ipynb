{
 "metadata": {
  "celltoolbar": "Slideshow",
  "name": "",
  "signature": "sha256:3317c72a3ae9e4d700da5e1e23749f98e00c6d249321ce50482bb3fabd53b808"
 },
 "nbformat": 3,
 "nbformat_minor": 0,
 "worksheets": [
  {
   "cells": [
    {
     "cell_type": "markdown",
     "metadata": {
      "slideshow": {
       "slide_type": "slide"
      }
     },
     "source": [
      "# Using Python to solve ODEs"
     ]
    },
    {
     "cell_type": "code",
     "collapsed": false,
     "input": [
      "%matplotlib inline \n",
      "%pylab inline\n",
      "\n",
      "import matplotlib.pyplot as plt\n",
      "import numpy as np\n",
      "import scipy.integrate as integrate\n",
      "\n",
      "import matplotlib.animation as animation\n",
      "from JSAnimation import IPython_display\n",
      "\n",
      "#%run talktools"
     ],
     "language": "python",
     "metadata": {
      "slideshow": {
       "slide_type": "slide"
      }
     },
     "outputs": [
      {
       "output_type": "stream",
       "stream": "stdout",
       "text": [
        "Populating the interactive namespace from numpy and matplotlib\n"
       ]
      }
     ],
     "prompt_number": 3
    },
    {
     "cell_type": "markdown",
     "metadata": {},
     "source": [
      "## Using the gsl libary to solve standard ODE\n",
      "\n",
      "- First look at a standard method to solve an ODE\n",
      "- Use the GNU gsl_odeiv2 library\n",
      "- Example taken from http://www.gnu.org/software/gsl/manual/html_node/ODE-Example-programs.html"
     ]
    },
    {
     "cell_type": "code",
     "collapsed": false,
     "input": [
      "%%file odeint.c\n",
      "\n",
      "#include <stdio.h>\n",
      "#include <gsl/gsl_errno.h>\n",
      "#include <gsl/gsl_matrix.h>\n",
      "#include <gsl/gsl_odeiv2.h>\n",
      "\n",
      "int\n",
      "func (double t, const double y[], double f[],\n",
      "      void *params)\n",
      "{\n",
      "  double mu = *(double *)params;\n",
      "  f[0] = y[1];\n",
      "  f[1] = -y[0] - mu*y[1]*(y[0]*y[0] - 1);\n",
      "  return GSL_SUCCESS;\n",
      "}\n",
      "\n",
      "int\n",
      "jac (double t, const double y[], double *dfdy, \n",
      "     double dfdt[], void *params)\n",
      "{\n",
      "  double mu = *(double *)params;\n",
      "  gsl_matrix_view dfdy_mat \n",
      "    = gsl_matrix_view_array (dfdy, 2, 2);\n",
      "  gsl_matrix * m = &dfdy_mat.matrix; \n",
      "  gsl_matrix_set (m, 0, 0, 0.0);\n",
      "  gsl_matrix_set (m, 0, 1, 1.0);\n",
      "  gsl_matrix_set (m, 1, 0, -2.0*mu*y[0]*y[1] - 1.0);\n",
      "  gsl_matrix_set (m, 1, 1, -mu*(y[0]*y[0] - 1.0));\n",
      "  dfdt[0] = 0.0;\n",
      "  dfdt[1] = 0.0;\n",
      "  return GSL_SUCCESS;\n",
      "}\n",
      "\n",
      "int\n",
      "main (void)\n",
      "{\n",
      "  double mu = 10;\n",
      "  gsl_odeiv2_system sys = {func, jac, 2, &mu};\n",
      "\n",
      "  gsl_odeiv2_driver * d = \n",
      "    gsl_odeiv2_driver_alloc_y_new (&sys, gsl_odeiv2_step_rk8pd,\n",
      "\t\t\t\t  1e-6, 1e-6, 0.0);\n",
      "  int i;\n",
      "  double t = 0.0, t1 = 200.0;\n",
      "  double y[2] = { 1.0, 0.0 };\n",
      "\n",
      "  for (i = 1; i <= 1000; i++)\n",
      "    {\n",
      "      double ti = i * t1 / 100.0;\n",
      "      int status = gsl_odeiv2_driver_apply (d, &t, ti, y);\n",
      "\n",
      "      if (status != GSL_SUCCESS)\n",
      "\t{\n",
      "\t  printf (\"error, return value=%d\\n\", status);\n",
      "\t  break;\n",
      "\t}\n",
      "\n",
      "      printf (\"%.5e %.5e %.5e\\n\", t, y[0], y[1]);\n",
      "    }\n",
      "\n",
      "  gsl_odeiv2_driver_free (d);\n",
      "  return 0;\n",
      "}"
     ],
     "language": "python",
     "metadata": {
      "slideshow": {
       "slide_type": "subslide"
      }
     },
     "outputs": [
      {
       "output_type": "stream",
       "stream": "stdout",
       "text": [
        "Writing odeint.c\n"
       ]
      }
     ],
     "prompt_number": 9
    },
    {
     "cell_type": "markdown",
     "metadata": {
      "slideshow": {
       "slide_type": "slide"
      }
     },
     "source": [
      "## Compile and run the code"
     ]
    },
    {
     "cell_type": "code",
     "collapsed": false,
     "input": [
      "!gcc -Wall -c odeint.c\n",
      "!gcc -static odeint.o -lgsl -lgslcblas -lm \n",
      "!./a.out > Cresults.txt"
     ],
     "language": "python",
     "metadata": {},
     "outputs": [],
     "prompt_number": 10
    },
    {
     "cell_type": "markdown",
     "metadata": {},
     "source": [
      "#### Check the result"
     ]
    },
    {
     "cell_type": "code",
     "collapsed": false,
     "input": [
      "[time, x, y] = np.genfromtxt(\"Cresults.txt\").T\n",
      "plt.plot(x, y, \".\")\n",
      "plt.show()"
     ],
     "language": "python",
     "metadata": {},
     "outputs": [
      {
       "metadata": {},
       "output_type": "display_data",
       "png": "[encoded data removed]",
       "text": [
        "<matplotlib.figure.Figure at 0x3b99a50>"
       ]
      }
     ],
     "prompt_number": 27
    },
    {
     "cell_type": "markdown",
     "metadata": {
      "slideshow": {
       "slide_type": "slide"
      }
     },
     "source": [
      "## Using 'pure' Python"
     ]
    },
    {
     "cell_type": "code",
     "collapsed": false,
     "input": [
      "def vanderpol_jac(y, t, mu=10):\n",
      "    return [[0, 1], [-2*y[0]*y[1]*mu - 1, mu*(1 - y[0]**2)]]\n",
      "\n",
      "def vanderpol(y, t, mu=10):\n",
      "    dxdt = y[1]\n",
      "    dydt = -y[0] - mu*y[1]*(y[0]*y[0] - 1)\n",
      "    return [dxdt, dydt]\n",
      "\n",
      "time = np.linspace(0, 200, 1000)\n",
      "\n",
      "x_results, y_results = integrate.odeint(vanderpol, y0=[1.0, 0.0], t=time, Dfun=vanderpol_jac).T\n",
      "\n",
      "plt.plot(x_results, y_results, \".\")"
     ],
     "language": "python",
     "metadata": {},
     "outputs": [
      {
       "metadata": {},
       "output_type": "pyout",
       "prompt_number": 2,
       "text": [
        "[<matplotlib.lines.Line2D at 0x3e5f9d0>]"
       ]
      },
      {
       "metadata": {},
       "output_type": "display_data",
       "png": "[encoded data removed]",
       "text": [
        "<matplotlib.figure.Figure at 0x3e3b7d0>"
       ]
      }
     ],
     "prompt_number": 2
    },
    {
     "cell_type": "markdown",
     "metadata": {
      "slideshow": {
       "slide_type": "slide"
      }
     },
     "source": [
      "## Comparing the run times\n",
      "\n",
      "- We can time how long it takes to run the integration to check *how slow is python?*"
     ]
    },
    {
     "cell_type": "code",
     "collapsed": false,
     "input": [
      "%%timeit \n",
      "! ./a.out > Cresults.txt"
     ],
     "language": "python",
     "metadata": {},
     "outputs": [
      {
       "output_type": "stream",
       "stream": "stdout",
       "text": [
        "10 loops, best of 3: 131 ms per loop\n"
       ]
      }
     ],
     "prompt_number": 20
    },
    {
     "cell_type": "code",
     "collapsed": false,
     "input": [
      "%%timeit \n",
      "x_results, y_results = integrate.odeint(vanderpol, [1.0, 0.0], time, Dfun=vanderpol_jac).T"
     ],
     "language": "python",
     "metadata": {},
     "outputs": [
      {
       "output_type": "stream",
       "stream": "stdout",
       "text": [
        "10 loops, best of 3: 175 ms per loop\n"
       ]
      }
     ],
     "prompt_number": 21
    },
    {
     "cell_type": "markdown",
     "metadata": {
      "slideshow": {
       "slide_type": "slide"
      }
     },
     "source": [
      "## Double pendulum animation\n",
      "\n",
      "- Example taken from the matplotlib docs: http://matplotlib.org/examples/animation/double_pendulum_animated.html"
     ]
    },
    {
     "cell_type": "code",
     "collapsed": false,
     "input": [
      "from numpy import pi, sin, cos\n",
      "\n",
      "G =  9.8 # acceleration due to gravity, in m/s^2\n",
      "L1 = 1.0 # length of pendulum 1 in m\n",
      "L2 = 1.0 # length of pendulum 2 in m\n",
      "M1 = 1.0 # mass of pendulum 1 in kg\n",
      "M2 = 1.0 # mass of pendulum 2 in kg\n",
      "\n",
      "def derivs(state, t):\n",
      "\n",
      "    dydx = np.zeros_like(state)\n",
      "    dydx[0] = state[1]\n",
      "\n",
      "    del_ = state[2]-state[0]\n",
      "    den1 = (M1+M2)*L1 - M2*L1*cos(del_)*cos(del_)\n",
      "    dydx[1] = (M2*L1*state[1]*state[1]*sin(del_)*cos(del_)\n",
      "               + M2*G*sin(state[2])*cos(del_) + M2*L2*state[3]*state[3]*sin(del_)\n",
      "               - (M1+M2)*G*sin(state[0]))/den1\n",
      "\n",
      "    dydx[2] = state[3]\n",
      "\n",
      "    den2 = (L2/L1)*den1\n",
      "    dydx[3] = (-M2*L2*state[3]*state[3]*sin(del_)*cos(del_)\n",
      "               + (M1+M2)*G*sin(state[0])*cos(del_)\n",
      "               - (M1+M2)*L1*state[1]*state[1]*sin(del_)\n",
      "               - (M1+M2)*G*sin(state[2]))/den2\n",
      "\n",
      "    return dydx\n",
      "\n",
      "# create a time array from 0..100 sampled at 0.1 second steps\n",
      "dt = 0.05\n",
      "t = np.arange(0.0, 20, dt)\n",
      "\n",
      "# th1 and th2 are the initial angles (degrees)\n",
      "# w10 and w20 are the initial angular velocities (degrees per second)\n",
      "th1 = 120.0\n",
      "w1 = 0.0\n",
      "th2 = -10.0\n",
      "w2 = 0.0\n",
      "\n",
      "rad = np.pi/180\n",
      "\n",
      "# initial state\n",
      "state = np.array([th1, w1, th2, w2])*pi/180.\n",
      "\n",
      "# integrate your ODE using scipy.integrate.\n",
      "y = integrate.odeint(derivs, state, t)\n",
      "\n",
      "x1 = L1*sin(y[:,0])\n",
      "y1 = -L1*cos(y[:,0])\n",
      "\n",
      "x2 = L2*sin(y[:,2]) + x1\n",
      "y2 = -L2*cos(y[:,2]) + y1\n",
      "\n",
      "fig = plt.figure()\n",
      "ax = fig.add_subplot(111, autoscale_on=False, xlim=(-2, 2), ylim=(-2, 2))\n",
      "ax.grid()\n",
      "\n",
      "line, = ax.plot([], [], 'o-', lw=2)\n",
      "time_template = 'time = %.1fs'\n",
      "time_text = ax.text(0.05, 0.9, '', transform=ax.transAxes)\n",
      "\n",
      "def init():\n",
      "    line.set_data([], [])\n",
      "    time_text.set_text('')\n",
      "    return line, time_text\n",
      "\n",
      "def animate(i):\n",
      "    thisx = [0, x1[i], x2[i]]\n",
      "    thisy = [0, y1[i], y2[i]]\n",
      "\n",
      "    line.set_data(thisx, thisy)\n",
      "    time_text.set_text(time_template%(i*dt))\n",
      "    return line, time_text\n",
      "\n",
      "anim = animation.FuncAnimation(fig, animate, np.arange(1, len(y)),\n",
      "                                                              interval=25, blit=True, init_func=init)\n"
     ],
     "language": "python",
     "metadata": {},
     "outputs": [
      {
       "metadata": {},
       "output_type": "display_data",
       "png": "[encoded data removed]",
       "text": [
        "<matplotlib.figure.Figure at 0x2c5f090>"
       ]
      }
     ],
     "prompt_number": 4
    },
    {
     "cell_type": "code",
     "collapsed": false,
     "input": [],
     "language": "python",
     "metadata": {},
     "outputs": [],
     "prompt_number": 4
    },
    {
     "cell_type": "code",
     "collapsed": false,
     "input": [],
     "language": "python",
     "metadata": {},
     "outputs": []
    }
   ],
   "metadata": {}
  }
 ]
}