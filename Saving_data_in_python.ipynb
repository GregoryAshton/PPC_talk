{
 "metadata": {
  "name": "",
  "signature": "sha256:174d5b8c8047f77b0bbc0e42f3d88bb9ecae7bec6fe47fd5a2eff407bfc99551"
 },
 "nbformat": 3,
 "nbformat_minor": 0,
 "worksheets": [
  {
   "cells": [
    {
     "cell_type": "code",
     "collapsed": false,
     "input": [
      "import numpy as np\n",
      "\n",
      "from IPython.core.display import HTML\n",
      "def css_styling():\n",
      "    styles = open(\"custom.css\", \"r\").read()\n",
      "    return HTML(styles)\n",
      "css_styling()"
     ],
     "language": "python",
     "metadata": {
      "slideshow": {
       "slide_type": "-"
      }
     },
     "outputs": [
      {
       "html": [
        "<style>\n",
        "    div.cell{\n",
        "        width:90%;\n",
        "        margin-left:0%;\n",
        "        margin-right:auto;\n",
        "        font-size: 120%;\n",
        "    }\n",
        "    \n",
        "    div.text_cell_render{\n",
        "        width:90%;\n",
        "        margin-left:0%;\n",
        "        margin-right:auto;\n",
        "        font-size: 110%;\n",
        "        line-height: 1.8;\n",
        "    }\n",
        "\n",
        ".rendered_html li\n",
        "{\n",
        "  margin-top:0.8em;\n",
        "  }\n",
        "</style>\n"
       ],
       "metadata": {},
       "output_type": "pyout",
       "prompt_number": 1,
       "text": [
        "<IPython.core.display.HTML object>"
       ]
      }
     ],
     "prompt_number": 1
    },
    {
     "cell_type": "markdown",
     "metadata": {},
     "source": [
      "# Saving data in Python\n",
      "\n",
      "- In the 'C' program of the last notebook, the data was saved by firstly printing the output during the stepping process using\n",
      "\n",
      "    `printf (\"%.5e %.5e %.5e\\n\", t, y[0], y[1]);`\n",
      "    \n",
      "- Then when running from the command line we saved it to file using\n",
      "\n",
      "    `./a.out > CResults.txt`\n",
      "    \n",
      "- For the Python script the data was stored in memory and then plotted. So how could we save it to use in some other plotting library or send it to a friend?"
     ]
    },
    {
     "cell_type": "code",
     "collapsed": false,
     "input": [
      "# Create some data\n",
      "x = np.linspace(0, 10, 100)\n",
      "y = np.sin(x)"
     ],
     "language": "python",
     "metadata": {},
     "outputs": [],
     "prompt_number": 2
    },
    {
     "cell_type": "code",
     "collapsed": false,
     "input": [
      "# Method 1\n",
      "f = open('RESULTS_v1.txt', \"w+\") \n",
      "f.write(\"# X   Y \\n\")  \n",
      "for xval, yval in zip(x, y):\n",
      "    f.write(\"{:.5e} {} \\n\".format(xval, yval)) \n",
      "f.close() "
     ],
     "language": "python",
     "metadata": {},
     "outputs": [],
     "prompt_number": 3
    },
    {
     "cell_type": "markdown",
     "metadata": {},
     "source": [
      "Lets look at the results"
     ]
    },
    {
     "cell_type": "code",
     "collapsed": false,
     "input": [
      "!! head RESULTS_v1.txt"
     ],
     "language": "python",
     "metadata": {},
     "outputs": [
      {
       "metadata": {},
       "output_type": "pyout",
       "prompt_number": 4,
       "text": [
        "['# X   Y ',\n",
        " '0.00000e+00 0.0 ',\n",
        " '1.01010e-01 0.100838420258 ',\n",
        " '2.02020e-01 0.200648856523 ',\n",
        " '3.03030e-01 0.298413804448 ',\n",
        " '4.04040e-01 0.393136612148 ',\n",
        " '5.05051e-01 0.483851640438 ',\n",
        " '6.06061e-01 0.569634106909 ',\n",
        " '7.07071e-01 0.649609513506 ',\n",
        " '8.08081e-01 0.722962561479 ']"
       ]
      }
     ],
     "prompt_number": 4
    },
    {
     "cell_type": "markdown",
     "metadata": {},
     "source": [
      "This works great, here is an equivalent method were we\n",
      "don't need to remember to close the file"
     ]
    },
    {
     "cell_type": "code",
     "collapsed": false,
     "input": [
      "# Method 2 - no need to remember to close()\n",
      "with open(\"RESULTS_v2.txt\", \"w+\") as f:\n",
      "     f.write(\"{:.5e} {} \\n\".format(xval, yval))   "
     ],
     "language": "python",
     "metadata": {},
     "outputs": [],
     "prompt_number": 5
    },
    {
     "cell_type": "code",
     "collapsed": false,
     "input": [
      "# Method 3 - Use numpy \n",
      "data = np.array([x, y]).T # Transpose to get two columsn instead of two rows\n",
      "np.savetxt(\"RESULTS_v3.txt\", data, fmt=('%.5e', '%1.1f'), \n",
      "           delimiter=\", \", header=\"x sin(x)\")"
     ],
     "language": "python",
     "metadata": {},
     "outputs": [],
     "prompt_number": 6
    },
    {
     "cell_type": "code",
     "collapsed": false,
     "input": [
      "!! head RESULTS_v3.txt"
     ],
     "language": "python",
     "metadata": {},
     "outputs": [
      {
       "metadata": {},
       "output_type": "pyout",
       "prompt_number": 7,
       "text": [
        "['# x sin(x)',\n",
        " '0.00000e+00, 0.0',\n",
        " '1.01010e-01, 0.1',\n",
        " '2.02020e-01, 0.2',\n",
        " '3.03030e-01, 0.3',\n",
        " '4.04040e-01, 0.4',\n",
        " '5.05051e-01, 0.5',\n",
        " '6.06061e-01, 0.6',\n",
        " '7.07071e-01, 0.6',\n",
        " '8.08081e-01, 0.7']"
       ]
      }
     ],
     "prompt_number": 7
    },
    {
     "cell_type": "markdown",
     "metadata": {},
     "source": [
      "## Summary \n",
      "- In general using the numpy functions is the most practical \n",
      "- `np.genfromtxt()` is the reverse operation of `savetxt`\n",
      "- Use a standard method of input/output with automated file naming\n",
      "- For more advanced handling of data use [Pandas](http://pandas.pydata.org/)"
     ]
    },
    {
     "cell_type": "code",
     "collapsed": false,
     "input": [],
     "language": "python",
     "metadata": {},
     "outputs": [],
     "prompt_number": 7
    },
    {
     "cell_type": "code",
     "collapsed": false,
     "input": [],
     "language": "python",
     "metadata": {},
     "outputs": [],
     "prompt_number": 7
    }
   ],
   "metadata": {}
  }
 ]
}